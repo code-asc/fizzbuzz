{
 "cells": [
  {
   "cell_type": "code",
   "execution_count": 1,
   "id": "ed82b4c0-9c81-4024-bf39-22954f9ba876",
   "metadata": {},
   "outputs": [],
   "source": [
    "import requests"
   ]
  },
  {
   "cell_type": "markdown",
   "id": "058797f2-0065-4506-b941-a85ef91716c5",
   "metadata": {},
   "source": [
    "<h3>Steps to follow:</h3>\n",
    "<ol>\n",
    "    <li>Build the docker image using following command: <code>docker build -t test-lemay .</code></li>\n",
    "    <li>Create the container ans start it using follwoing command: <code>docker run --name test-lemay -p 80:80 test-lemay</code></li>\n",
    "    <li>Once the server is started, make the request for following url to get the documentation of API: <a href=\"http://127.0.0.1/docs\">http://127.0.0.1/docs</a></li>\n",
    "</ol>"
   ]
  },
  {
   "cell_type": "markdown",
   "id": "1c6dc732-9904-43f3-91f8-14f7f2e32d09",
   "metadata": {},
   "source": [
    "<p> The following is the link for the model description: <a href=\"https://huggingface.co/gpt2\">https://huggingface.co/gpt2</a> </p>"
   ]
  },
  {
   "cell_type": "markdown",
   "id": "a6fc1225-230c-4e84-8603-c960903ab434",
   "metadata": {},
   "source": [
    "<h3>Please explain why you have chosen this model as your demonstration?</h3>\n",
    "<p>It has been a long-term interest of mine to investigate open AI research, and I wanted to use the GPT model to build a web application that would help me in my thesis work in order to make my research more effective. Now I have a chance to play with it and expand the features of the model further with an appropriate user interface.</p>"
   ]
  },
  {
   "cell_type": "code",
   "execution_count": 4,
   "id": "1af3a650-7127-4f05-8553-55d0086d2aa9",
   "metadata": {},
   "outputs": [
    {
     "name": "stdout",
     "output_type": "stream",
     "text": [
      "{\"text\":\"AI The Journey The King's Story The Longest Five Minutes The Lords of the Earth Flame The Lost The Lost Battalion: All Out Warfare The Lost Crown The Lost Island The Lost Souls The Lost Valley The Low Road The Madness of Little Emma The Magic Circle The Magical Silence The Mahjong Huntress The Majesty of Colors Remastered The Maker's Eden The Marvellous Miss Take The Masterplan The Maze : Endless nightmare The Mean Greens - Plastic Warfare The Melody of Grisaia The Men of Yoshiwara: Kikuya The Men of Yoshiwara: Ohgiya The Messenger The Metronomicon: Slay The Dance Floor The Mighty Quest For Epic Loot The Mine The Miners The Minotaur The Miskatonic The Moon Sliver The Moonstone Equation The Mooseman The Multidimensional Underwear Drawer The Music Machine The Musketeers: Victoria's Quest The Mystery of a Lost Planet The Myth Seekers: The Legacy of Vulcan The Narrator is a DICK The New Queen The Next Door The Next World The Night of the Rabbit The Nightmare Cooperative The Norwood Suite The Note The Novelist The Odyssey The Oil Blue The Onion Knights - Definitive Edition The Orb Chambers The Orb Chambers II The Order of the Thorne - The King's Challenge The Other 99 The Overdreamer The Painscreek Killings The Park The Pasture The Path The Pirate's Fate The Pit And The Pendulum The Princess' Heart The Promised Land The Purge Day The Purring Quest The Quest The Quest for Achievements THE QUIET MAN™ The Rabbit Hole The Rainy Port Keelung The Rake: Red Forest The Red Solstice The Red Strings Club The Reject Demon: Toko Chapter 0 - Prelude The Renegades of Orion 2.0 The Return Home Remastered The Revenge of Johnny Bonasera: Episode 1 The Rise of Chubtan The Rivers of Alice - Extended Version The Rollingball's Melody The Room The Room Two The Ruins: VR Escape the Room The Sacred Stone: A Story Adventure The Sacred Tears TRUE The Safeguard Garrison The Safeguard Garrison 2 The Saint: Abyss of Despair The Samaritan Paradox The Sand Man The Search The Search for Simon The Secret Monster Society The Secret Order 2: Masked Intent The Secret Order 3: Ancient Times The Secret Order 4: Beyond Time The Secret Order 5: The Buried Kingdom The Secret Order 6: Bloodline The Settlers Online The Sexy Brutale The Shadowland The Shadows of Pygmalion The Shape Of Heart The Ship The Ship: Remasted The Shivah The Showdown Effect The Shrouded Isle The Signal From Tölva The Silver Case The Slaughter: Act One The Slaughtering Grounds The Slimeking's Tower The Solus Project The Sorceress The Space Garden The Spatials The Spatials: Galactology The Spiral Scouts The Spirit Underneath The Stalin Subway The Stalin Subway: Red Veil The Station The Steam Awards The Steam Awards - 2017 The Story Goes On The Sun at Night The Sun Never Sets The Sunset The Superfluous The Surge The Survey The Swapper The Tale of a Common Man The Tale of Doris and the Dragon - Episode 1 The Talos Principle The Tape The Technomancer The Temporal Invasion The Tenth Line The Testament of Sherlock Holmes The Thin Silence The Tiny Bang Story The Tiny Tale 2 The Tomorrow War The Tower Of Elements The Town of Light The Trail: Frontier Challenge The Travels of Marco Polo The Treasures of Montezuma 3 The Treasures of Montezuma 4 The Treasures of Montezuma 5 The trial of witch The Turing Test The Typing of The Dead: Overkill The Uncertain: Episode 1 - The Last Quiet Day The Underground Man The Undying Plague The Uninvited: MacVenture Series The Unwelcomed The Vagrant The Vanishing of Ethan Carter The Vanishing of Ethan Carter Redux The Vanishing of Ethan Carter VR The Void The Walking Dead THE WALL 墙 The Wardrobe The Warlock of Firetop Mountain THE WARRIORLOCK The Waste Land The Way The Way of Life: DEFINITIVE EDITION The Way We ALL GO The Weaponographist The Whispered World Special Edition The Wild Eight The Wisbey Mystery The Witcher 2: Assassins of Kings Enhanced Edition The Witcher 3: Wild Hunt The Witches' Tea Party The Wizard's Lair The Wizards Who Fell In A Hole The Yawhg The Youthdrainers Thea: The Awakening Theatre of Doom TheFirstClass VR / 第一课 VR TheNightfall There Came an Echo There Was a Caveman There's Poop In My Soup These nights in Cairo They Are Billions They Bleed Pixels They Breathe They Came From The Moon Thief Thief of Thieves: Season One Thief Town Thimbleweed Park Think of the Children Think To Die Think To Die 2 Think To Die 3 Third Front: WWII This Book Is A Dungeon This Grand Life This Is the Police This Is the Police 2 This Starry Midnight We Make This\"}\n"
     ]
    }
   ],
   "source": [
    "url = 'http://127.0.0.1/compare'\n",
    "obj = {'topic':'AI', 'max_length':1000}\n",
    "\n",
    "data = requests.post(url, json = obj)\n",
    "print(data.text)"
   ]
  },
  {
   "cell_type": "code",
   "execution_count": null,
   "id": "80483fe5-acd2-48d3-a9d9-811b47fb1a79",
   "metadata": {},
   "outputs": [],
   "source": []
  }
 ],
 "metadata": {
  "kernelspec": {
   "display_name": "Python 3 (ipykernel)",
   "language": "python",
   "name": "python3"
  },
  "language_info": {
   "codemirror_mode": {
    "name": "ipython",
    "version": 3
   },
   "file_extension": ".py",
   "mimetype": "text/x-python",
   "name": "python",
   "nbconvert_exporter": "python",
   "pygments_lexer": "ipython3",
   "version": "3.7.6"
  }
 },
 "nbformat": 4,
 "nbformat_minor": 5
}
